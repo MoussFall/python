{
 "cells": [
  {
   "cell_type": "code",
   "execution_count": 6,
   "id": "3b1d6d11",
   "metadata": {},
   "outputs": [
    {
     "ename": "AttributeError",
     "evalue": "'NoneType' object has no attribute 'find'",
     "output_type": "error",
     "traceback": [
      "\u001b[1;31m---------------------------------------------------------------------------\u001b[0m",
      "\u001b[1;31mAttributeError\u001b[0m                            Traceback (most recent call last)",
      "Cell \u001b[1;32mIn[6], line 11\u001b[0m\n\u001b[0;32m      9\u001b[0m table \u001b[38;5;241m=\u001b[39m soup\u001b[38;5;241m.\u001b[39mfind(\u001b[38;5;124m\"\u001b[39m\u001b[38;5;124mdiv\u001b[39m\u001b[38;5;124m\"\u001b[39m,{\u001b[38;5;124m\"\u001b[39m\u001b[38;5;124mid\u001b[39m\u001b[38;5;124m\"\u001b[39m:\u001b[38;5;124m\"\u001b[39m\u001b[38;5;124mctl00_ContentPlaceHolder1_ctl00_ctl01_Panel1\u001b[39m\u001b[38;5;124m\"\u001b[39m})\n\u001b[0;32m     10\u001b[0m result \u001b[38;5;241m=\u001b[39m {}\n\u001b[1;32m---> 11\u001b[0m \u001b[38;5;28;01mfor\u001b[39;00m column \u001b[38;5;129;01min\u001b[39;00m \u001b[43mtable\u001b[49m\u001b[38;5;241;43m.\u001b[39;49m\u001b[43mfind\u001b[49m(\u001b[38;5;124m\"\u001b[39m\u001b[38;5;124mtr\u001b[39m\u001b[38;5;124m\"\u001b[39m)\u001b[38;5;241m.\u001b[39mfind_all(\u001b[38;5;124m\"\u001b[39m\u001b[38;5;124mth\u001b[39m\u001b[38;5;124m\"\u001b[39m):\n\u001b[0;32m     12\u001b[0m     key \u001b[38;5;241m=\u001b[39m column\u001b[38;5;241m.\u001b[39mget_text()\u001b[38;5;241m.\u001b[39mreplace(\u001b[38;5;124m\"\u001b[39m\u001b[38;5;130;01m\\r\u001b[39;00m\u001b[38;5;124m\"\u001b[39m,\u001b[38;5;124m\"\u001b[39m\u001b[38;5;124m\"\u001b[39m)\u001b[38;5;241m.\u001b[39mreplace(\u001b[38;5;124m\"\u001b[39m\u001b[38;5;130;01m\\n\u001b[39;00m\u001b[38;5;124m\"\u001b[39m,\u001b[38;5;124m\"\u001b[39m\u001b[38;5;124m\"\u001b[39m)\n\u001b[0;32m     13\u001b[0m     result[key] \u001b[38;5;241m=\u001b[39m []\n",
      "\u001b[1;31mAttributeError\u001b[0m: 'NoneType' object has no attribute 'find'"
     ]
    }
   ],
   "source": [
    "import requests\n",
    "import re\n",
    "import numpy as np\n",
    "import pandas as pd\n",
    "from bs4 import BeautifulSoup\n",
    "link = \"https://tradingeconomics.com/united-states/inflation-cpi\"\n",
    "page = requests.get(link)\n",
    "soup = BeautifulSoup(page.content, 'html.parser')\n",
    "table = soup.find(\"div\",{\"id\":\"ctl00_ContentPlaceHolder1_ctl00_ctl01_Panel1\"})\n",
    "result = {}\n",
    "for column in table.find(\"tr\").find_all(\"th\"):\n",
    "    key = column.get_text().replace(\"\\r\",\"\").replace(\"\\n\",\"\")\n",
    "    result[key] = []\n",
    "    \n",
    "my_regex = re.compile(\"datatable-row*\")\n",
    "for tr in table.find_all(\"tr\",{\"class\":my_regex}):\n",
    "    for i,row in enumerate(tr.find_all(\"td\")):\n",
    "        result[list(result.keys())[i]].append(row.text.replace(\"\\r\",\"\").replace(\"\\n\",\"\"))\n",
    "\n"
   ]
  },
  {
   "cell_type": "code",
   "execution_count": 8,
   "id": "bb29638c",
   "metadata": {},
   "outputs": [
    {
     "ename": "SyntaxError",
     "evalue": "unterminated string literal (detected at line 6) (1549594320.py, line 6)",
     "output_type": "error",
     "traceback": [
      "\u001b[1;36m  Cell \u001b[1;32mIn[8], line 6\u001b[1;36m\u001b[0m\n\u001b[1;33m    soup = BeautifulSoup(page.content, 'html.parser’)\u001b[0m\n\u001b[1;37m                                       ^\u001b[0m\n\u001b[1;31mSyntaxError\u001b[0m\u001b[1;31m:\u001b[0m unterminated string literal (detected at line 6)\n"
     ]
    }
   ],
   "source": [
    "import requests\n",
    "from bs4 import BeautifulSoup\n",
    "\n",
    "link = \"https://stackoverflow.com/questions/2081586/web-scraping-with-python\"\n",
    "page = requests.get(link)\n",
    "soup = BeautifulSoup(page.content, 'html.parser’)\n",
    "container = soup.find(\"div\",{\"id\":\"answer-2082025\"})\n",
    "container.find(\"div\",{\"class\":\"s-prose js-post-body\"}).find(\"p\").get_text()"
   ]
  },
  {
   "cell_type": "code",
   "execution_count": 12,
   "id": "a5c2c511",
   "metadata": {},
   "outputs": [
    {
     "name": "stdout",
     "output_type": "stream",
     "text": [
      "Search: covid\n",
      "Other names  ::  COVID, (the) coronavirus\n",
      "..................\n",
      "Pronunciation  ::  /kəˈroʊnəvaɪrəs//ˌkoʊvɪdnaɪnˈtiːn, ˌkɒvɪd-/[1] \n",
      "..................\n",
      "Specialty  ::  Infectious disease\n",
      "..................\n",
      "Symptoms  ::  Fever, cough, fatigue, shortness of breath, vomiting, loss of taste or smell; some cases asymptomatic[2][3]\n",
      "..................\n",
      "Complications  ::  Pneumonia, sepsis, ARDS, kidney failure, respiratory failure, pulmonary fibrosis, CKS, MIS-C, long COVID\n",
      "..................\n",
      "Usual onset  ::  2–14 days (typically 5)  after infection\n",
      "..................\n",
      "Duration  ::  5 days to chronic\n",
      "..................\n",
      "Causes  ::  SARS-CoV-2\n",
      "..................\n",
      "Diagnostic method  ::  RT‑PCR testing, CT scan, rapid antigen test\n",
      "..................\n",
      "Prevention  ::  Vaccination, face coverings, quarantine, social distancing, ventilation, hand washing\n",
      "..................\n",
      "Treatment  ::  Symptomatic and supportive\n",
      "..................\n",
      "Frequency  ::  676,609,955[4] cases\n",
      "..................\n",
      "Deaths  ::  6,881,955[4]\n",
      "..................\n",
      "Coronavirus disease 2019 (COVID-19) is a contagious disease caused by the virus severe acute respiratory syndrome coronavirus 2 (SARS-CoV-2). The first known case was identified in Wuhan, China, in December 2019.[5] The disease quickly spread worldwide, resulting in the COVID-19 pandemic.\n",
      "\n",
      "The symptoms of COVID‑19 are variable but often include fever,[6] cough, headache,[7] fatigue, breathing difficulties, loss of smell, and loss of taste.[8][9][10] Symptoms may begin one to fourteen days after exposure to the virus. At least a third of people who are infected do not develop noticeable symptoms.[11] Of those who develop symptoms noticeable enough to be classified as patients, most (81%) develop mild to moderate symptoms (up to mild pneumonia), while 14% develop severe symptoms (dyspnea, hypoxia, or more than 50% lung involvement on imaging), and 5% develop critical symptoms (respiratory failure, shock, or multiorgan dysfunction).[12] Older people are at a higher risk of developing severe symptoms. Some people continue to experience a range of effects (long COVID) for months after recovery, and damage to organs has been observed.[13] Multi-year studies are underway to further investigate the long-term effects of the disease.[13]\n",
      "\n"
     ]
    }
   ],
   "source": [
    "#Wiki\n",
    "import requests\n",
    "import string\n",
    "from bs4 import BeautifulSoup\n",
    "Enter_input = input(\"Search: \")\n",
    "u_i = string.capwords(Enter_input)\n",
    "lists = u_i.split()\n",
    "word = \"_\".join(lists)\n",
    "url = \"https://en.wikipedia.org/wiki/\" + word\n",
    "\n",
    "def wikibot(url):\n",
    "    url_open = requests.get(url)\n",
    "    soup = BeautifulSoup(url_open.content, 'html.parser')\n",
    "    details = soup('table',{'class':'infobox'})\n",
    "    for i in details :\n",
    "        h = i.find_all('tr')\n",
    "        for j in h :\n",
    "            heading = j.find_all('th')\n",
    "            detail = j.find_all('td')\n",
    "            if heading is not None and detail is not None :\n",
    "                for x,y in zip(heading,detail):\n",
    "                    print(\"{}  ::  {}\".format(x.text,y.text))\n",
    "                    print(\"..................\")\n",
    "    for i in range(1,3):\n",
    "        print(soup('p')[i].text)\n",
    "wikibot(url)"
   ]
  },
  {
   "cell_type": "code",
   "execution_count": null,
   "id": "f09b0563",
   "metadata": {},
   "outputs": [],
   "source": []
  }
 ],
 "metadata": {
  "kernelspec": {
   "display_name": "Python 3 (ipykernel)",
   "language": "python",
   "name": "python3"
  },
  "language_info": {
   "codemirror_mode": {
    "name": "ipython",
    "version": 3
   },
   "file_extension": ".py",
   "mimetype": "text/x-python",
   "name": "python",
   "nbconvert_exporter": "python",
   "pygments_lexer": "ipython3",
   "version": "3.10.9"
  }
 },
 "nbformat": 4,
 "nbformat_minor": 5
}
