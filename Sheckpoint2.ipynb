{
 "cells": [
  {
   "cell_type": "code",
   "execution_count": 1,
   "id": "db39c034",
   "metadata": {},
   "outputs": [],
   "source": [
    "age=26"
   ]
  },
  {
   "cell_type": "code",
   "execution_count": 3,
   "id": "5d8600aa",
   "metadata": {},
   "outputs": [
    {
     "name": "stdout",
     "output_type": "stream",
     "text": [
      "Ma femme a26\n"
     ]
    }
   ],
   "source": [
    "print(f\"Ma femme a{age}\")"
   ]
  },
  {
   "cell_type": "code",
   "execution_count": 19,
   "id": "dd9d7978",
   "metadata": {},
   "outputs": [],
   "source": [
    "x=\"200§\""
   ]
  },
  {
   "cell_type": "code",
   "execution_count": 22,
   "id": "0b267453",
   "metadata": {},
   "outputs": [
    {
     "data": {
      "text/plain": [
       "200"
      ]
     },
     "execution_count": 22,
     "metadata": {},
     "output_type": "execute_result"
    }
   ],
   "source": [
    "y=int(x[0:-1])\n",
    "y\n"
   ]
  },
  {
   "cell_type": "code",
   "execution_count": null,
   "id": "2ad36443",
   "metadata": {},
   "outputs": [],
   "source": []
  },
  {
   "cell_type": "code",
   "execution_count": null,
   "id": "7548ca0a",
   "metadata": {},
   "outputs": [],
   "source": []
  }
 ],
 "metadata": {
  "kernelspec": {
   "display_name": "Python 3 (ipykernel)",
   "language": "python",
   "name": "python3"
  },
  "language_info": {
   "codemirror_mode": {
    "name": "ipython",
    "version": 3
   },
   "file_extension": ".py",
   "mimetype": "text/x-python",
   "name": "python",
   "nbconvert_exporter": "python",
   "pygments_lexer": "ipython3",
   "version": "3.9.13"
  }
 },
 "nbformat": 4,
 "nbformat_minor": 5
}
