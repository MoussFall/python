{
 "cells": [
  {
   "cell_type": "code",
   "execution_count": 1,
   "id": "74595160",
   "metadata": {},
   "outputs": [],
   "source": [
    "age=26"
   ]
  },
  {
   "cell_type": "code",
   "execution_count": 3,
   "id": "4277beaf",
   "metadata": {},
   "outputs": [
    {
     "name": "stdout",
     "output_type": "stream",
     "text": [
      "Ma femme a26\n"
     ]
    }
   ],
   "source": [
    "print(f\"Ma femme a{age}\")"
   ]
  },
  {
   "cell_type": "code",
   "execution_count": 19,
   "id": "67091723",
   "metadata": {},
   "outputs": [],
   "source": [
    "x=\"200§\""
   ]
  },
  {
   "cell_type": "code",
   "execution_count": 22,
   "id": "d472e177",
   "metadata": {},
   "outputs": [
    {
     "data": {
      "text/plain": [
       "200"
      ]
     },
     "execution_count": 22,
     "metadata": {},
     "output_type": "execute_result"
    }
   ],
   "source": [
    "y=int(x[0:-1])\n",
    "y\n",
    "*"
   ]
  },
  {
   "cell_type": "code",
   "execution_count": null,
   "id": "10f0edd1",
   "metadata": {},
   "outputs": [],
   "source": []
  },
  {
   "cell_type": "code",
   "execution_count": null,
   "id": "04a9fe02",
   "metadata": {},
   "outputs": [],
   "source": []
  }
 ],
 "metadata": {
  "kernelspec": {
   "display_name": "Python 3 (ipykernel)",
   "language": "python",
   "name": "python3"
  },
  "language_info": {
   "codemirror_mode": {
    "name": "ipython",
    "version": 3
   },
   "file_extension": ".py",
   "mimetype": "text/x-python",
   "name": "python",
   "nbconvert_exporter": "python",
   "pygments_lexer": "ipython3",
   "version": "3.9.13"
  }
 },
 "nbformat": 4,
 "nbformat_minor": 5
}
