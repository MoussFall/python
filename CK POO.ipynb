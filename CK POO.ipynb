{
 "cells": [
  {
   "cell_type": "code",
   "execution_count": 6,
   "id": "57e27673",
   "metadata": {},
   "outputs": [
    {
     "name": "stdout",
     "output_type": "stream",
     "text": [
      "(1, 2, 3)\n"
     ]
    }
   ],
   "source": [
    "class Point3D :\n",
    "    def __init__(self,x,y,z):\n",
    "        \n",
    "        self.x = x\n",
    "        self.y = y\n",
    "        self.z = z\n",
    "        \n",
    "    def point(self):\n",
    "        return (self.x,self.y,self.z)\n",
    "    \n",
    "my_point = Point3D(1,2,3)\n",
    "\n",
    "print(my_point.point())\n"
   ]
  },
  {
   "cell_type": "code",
   "execution_count": 8,
   "id": "2aca751e",
   "metadata": {},
   "outputs": [
    {
     "name": "stdout",
     "output_type": "stream",
     "text": [
      "12\n",
      "14\n"
     ]
    }
   ],
   "source": [
    "class Rectangle:\n",
    "    def __init__(self,longueur,largeur):\n",
    "        self.longueur = longueur\n",
    "        self.largeur = largeur\n",
    "        \n",
    "    def aire(self):\n",
    "        return(self.longueur * self.largeur)\n",
    "    \n",
    "    def perimetre(self):\n",
    "        return((self.longueur + self.largeur)*2)\n",
    "    \n",
    "my_rectangle = Rectangle(4,3)\n",
    "print(my_rectangle.aire())\n",
    "print(my_rectangle.perimetre())\n",
    "    \n",
    "        "
   ]
  },
  {
   "cell_type": "code",
   "execution_count": 25,
   "id": "03d81e0f",
   "metadata": {},
   "outputs": [
    {
     "data": {
      "text/plain": [
       "True"
      ]
     },
     "execution_count": 25,
     "metadata": {},
     "output_type": "execute_result"
    }
   ],
   "source": [
    "from math import *\n",
    "\n",
    "class Cercle:\n",
    "    def __init__(self,R,O=0):\n",
    "        self.O = O\n",
    "        self.R = R\n",
    "        \n",
    "    def air(self):\n",
    "        return(self.R**2*pi)\n",
    "    \n",
    "    def perimetre(self):\n",
    "        return(self.R*2*pi)\n",
    "    \n",
    "    def Inside(self,x,y):\n",
    "        distance = sqrt(x**2+y**2)\n",
    "        if distance > self.R:\n",
    "            return(False)\n",
    "        else:\n",
    "            return(True)\n",
    "C = Cercle(6)\n",
    "C.Inside(2,3)\n",
    "        \n",
    "    "
   ]
  },
  {
   "cell_type": "code",
   "execution_count": 19,
   "id": "80c6c749",
   "metadata": {},
   "outputs": [
    {
     "data": {
      "text/plain": [
       "100"
      ]
     },
     "execution_count": 19,
     "metadata": {},
     "output_type": "execute_result"
    }
   ],
   "source": [
    "class Bank:\n",
    "    def __init__(self,solde=0):\n",
    "        \n",
    "        self.solde = solde\n",
    "        \n",
    "    def depot(self,MD):\n",
    "        self.solde = self.solde + MD\n",
    "        \n",
    "    def retrait(self,MR):\n",
    "        self.solde = self.solde - MR\n",
    "        \n",
    "\n",
    "Solde = Bank(100)\n",
    "Solde.depot(500)\n",
    "Solde.retrait(500)\n",
    "Solde.solde\n"
   ]
  },
  {
   "cell_type": "code",
   "execution_count": null,
   "id": "a222b727",
   "metadata": {},
   "outputs": [],
   "source": []
  }
 ],
 "metadata": {
  "kernelspec": {
   "display_name": "Python 3 (ipykernel)",
   "language": "python",
   "name": "python3"
  },
  "language_info": {
   "codemirror_mode": {
    "name": "ipython",
    "version": 3
   },
   "file_extension": ".py",
   "mimetype": "text/x-python",
   "name": "python",
   "nbconvert_exporter": "python",
   "pygments_lexer": "ipython3",
   "version": "3.10.9"
  }
 },
 "nbformat": 4,
 "nbformat_minor": 5
}
