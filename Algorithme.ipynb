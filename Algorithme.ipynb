{
 "cells": [
  {
   "cell_type": "code",
   "execution_count": 1,
   "id": "681e20e5",
   "metadata": {},
   "outputs": [
    {
     "name": "stdout",
     "output_type": "stream",
     "text": [
      "5\n",
      "8\n",
      "9\n"
     ]
    },
    {
     "data": {
      "text/plain": [
       "'k is found'"
      ]
     },
     "execution_count": 1,
     "metadata": {},
     "output_type": "execute_result"
    }
   ],
   "source": [
    "def binary_search(A, l, h, k):\n",
    "    if h >= l:\n",
    "        mid = int(l + (h - l)/2)\n",
    "        print(mid)\n",
    "        if A[mid] == k:\n",
    "            return 'k is found'\n",
    "        elif A[mid] > k:\n",
    "            return binary_search(A, l, mid-1, k)\n",
    "        else:\n",
    "            return binary_search(A, mid+1, h, k)\n",
    "    else:\n",
    "        return 'k is not found'\n",
    "\n",
    "A=[1, 2, 7, 12, 28, 31, 40, 41, 42, 46, 59]\n",
    "k=46;l=0; h=len(A)-1;\n",
    "binary_search(A, l, h, k)"
   ]
  },
  {
   "cell_type": "code",
   "execution_count": 2,
   "id": "2b424922",
   "metadata": {},
   "outputs": [
    {
     "data": {
      "text/plain": [
       "[14, 21, 27, 41, 43, 45, 46, 57, 70]"
      ]
     },
     "execution_count": 2,
     "metadata": {},
     "output_type": "execute_result"
    }
   ],
   "source": [
    "def bubbleSort(nlist):\n",
    "    for passnum in range(len(nlist)-1,0,-1):\n",
    "        for i in range(passnum):\n",
    "            if nlist[i]>nlist[i+1]:\n",
    "                temp = nlist[i]\n",
    "                nlist[i] = nlist[i+1]\n",
    "                nlist[i+1] = temp\n",
    "    return nlist\n",
    "\n",
    "nlist = [14,46,43,27,57,41,45,21,70]\n",
    "bubbleSort(nlist)"
   ]
  },
  {
   "cell_type": "code",
   "execution_count": 3,
   "id": "3782248e",
   "metadata": {},
   "outputs": [
    {
     "name": "stdout",
     "output_type": "stream",
     "text": [
      "[17, 20, 26, 31, 44, 54, 55, 77, 93]\n"
     ]
    }
   ],
   "source": [
    "def mergeSort(myList):\n",
    "    if len(myList) > 1:\n",
    "        mid = len(myList) // 2\n",
    "        left = myList[:mid]\n",
    "        right = myList[mid:]\n",
    "\n",
    "        # Recursive call on each half\n",
    "        mergeSort(left)\n",
    "        mergeSort(right)\n",
    "\n",
    "        # Two iterators for traversing the two halves\n",
    "        i = 0\n",
    "        j = 0\n",
    "        \n",
    "        # Iterator for the main list\n",
    "        k = 0\n",
    "        \n",
    "        while i < len(left) and j < len(right):\n",
    "            if left[i] < right[j]:\n",
    "              # The value from the left half has been used\n",
    "              myList[k] = left[i]\n",
    "              # Move the iterator forward\n",
    "              i += 1\n",
    "            else:\n",
    "                myList[k] = right[j]\n",
    "                j += 1\n",
    "            # Move to the next slot\n",
    "            k += 1\n",
    "\n",
    "        # For all the remaining values\n",
    "        while i < len(left):\n",
    "            myList[k] = left[i]\n",
    "            i += 1\n",
    "            k += 1\n",
    "\n",
    "        while j < len(right):\n",
    "            myList[k]=right[j]\n",
    "            j += 1\n",
    "            k += 1\n",
    "\n",
    "myList = [54,26,93,17,77,31,44,55,20]\n",
    "mergeSort(myList)\n",
    "print(myList)"
   ]
  },
  {
   "cell_type": "code",
   "execution_count": 6,
   "id": "7fc78b53",
   "metadata": {},
   "outputs": [
    {
     "name": "stdout",
     "output_type": "stream",
     "text": [
      "[12, 19, 21, 27, 28, 29, 31, 41, 44, 44, 58, 66, 76, 78, 83, 87, 88, 97, 99]\n"
     ]
    }
   ],
   "source": [
    "def partition(array, start, end):\n",
    "    pivot = array[start]\n",
    "    low = start + 1\n",
    "    high = end\n",
    "    while True:\n",
    "        # If the current value we're looking at is larger than the pivot\n",
    "        # it's in the right place (right side of pivot) and we can move left,\n",
    "        # to the next element.\n",
    "        # We also need to make sure we haven't surpassed the low pointer, since that\n",
    "        # indicates we have already moved all the elements to their correct side of the pivot\n",
    "        while low <= high and array[high] >= pivot:\n",
    "            high = high - 1\n",
    "\n",
    "        # Opposite process of the one above\n",
    "        while low <= high and array[low] <= pivot:\n",
    "            low = low + 1\n",
    "\n",
    "        # We either found a value for both high and low that is out of order\n",
    "        # or low is higher than high, in which case we exit the loop\n",
    "        if low <= high:\n",
    "            array[low], array[high] = array[high], array[low]\n",
    "            # The loop continues\n",
    "        else:\n",
    "            # We exit out of the loop\n",
    "            break\n",
    "\n",
    "    array[start], array[high] = array[high], array[start]\n",
    "\n",
    "    return high\n",
    "def quick_sort(array, start, end):\n",
    "    if start >= end:\n",
    "        return\n",
    "\n",
    "    p = partition(array, start, end)\n",
    "    quick_sort(array, start, p-1)\n",
    "    quick_sort(array, p+1, end)\n",
    "array = [29,99,27,41,66,28,44,78,87,19,31,76,58,88,83,97,12,21,44]\n",
    "quick_sort(array, 0, len(array) - 1)\n",
    "print(array)\n"
   ]
  },
  {
   "cell_type": "code",
   "execution_count": 1,
   "id": "19455060",
   "metadata": {},
   "outputs": [
    {
     "name": "stdout",
     "output_type": "stream",
     "text": [
      "False\n",
      "True\n"
     ]
    }
   ],
   "source": [
    "def recherche_binaire(liste, x):\n",
    "    debut = 0\n",
    "    fin = len(liste) - 1\n",
    "    \n",
    "    while debut <= fin:\n",
    "        milieu = (debut + fin) // 2\n",
    "        if liste[milieu] == x:\n",
    "            return True\n",
    "        elif liste[milieu] < x:\n",
    "            debut = milieu + 1\n",
    "        else:\n",
    "            fin = milieu - 1\n",
    "            \n",
    "    return False\n",
    "liste = [1, 2, 3, 5, 8]\n",
    "print(recherche_binaire(liste, 6))  # False\n",
    "print(recherche_binaire(liste, 5))  # True"
   ]
  },
  {
   "cell_type": "code",
   "execution_count": 2,
   "id": "7f088b19",
   "metadata": {},
   "outputs": [
    {
     "data": {
      "text/plain": [
       "81"
      ]
     },
     "execution_count": 2,
     "metadata": {},
     "output_type": "execute_result"
    }
   ],
   "source": [
    "def puissance(a, b):\n",
    "  \n",
    "    resultat = 1\n",
    "    for i in range(b):\n",
    "        resultat *= a\n",
    "    return resultat\n",
    "puissance(3,4)"
   ]
  },
  {
   "cell_type": "code",
   "execution_count": 3,
   "id": "e3e88399",
   "metadata": {},
   "outputs": [
    {
     "name": "stdout",
     "output_type": "stream",
     "text": [
      "[13, 22, 29, 37, 46, 49, 52, 56, 71]\n"
     ]
    }
   ],
   "source": [
    "def tri_a_bulles(liste):\n",
    "    n = len(liste)\n",
    "    for i in range(n):\n",
    "        # Effectue un passage sur la liste et échange les éléments voisins si nécessaire\n",
    "        for j in range(n - i - 1):\n",
    "            if liste[j] > liste[j + 1]:\n",
    "                liste[j], liste[j + 1] = liste[j + 1], liste[j]\n",
    "    return liste\n",
    "liste = [29, 13, 22, 37, 52, 49, 46, 71,56]\n",
    "liste_triee = tri_a_bulles(liste)\n",
    "print(liste_triee) "
   ]
  },
  {
   "cell_type": "code",
   "execution_count": 4,
   "id": "244d66b2",
   "metadata": {},
   "outputs": [
    {
     "name": "stdout",
     "output_type": "stream",
     "text": [
      "[13, 22, 29, 37, 46, 49, 52, 56, 71]\n"
     ]
    }
   ],
   "source": [
    "def tri_par_fusion(liste):\n",
    "    if len(liste) <= 1:\n",
    "        return liste\n",
    "    \n",
    "    # Divise la liste en deux moitiés\n",
    "    milieu = len(liste) // 2\n",
    "    gauche = liste[:milieu]\n",
    "    droite = liste[milieu:]\n",
    "    \n",
    "    # Trie récursivement les deux moitiés\n",
    "    gauche_triee = tri_par_fusion(gauche)\n",
    "    droite_triee = tri_par_fusion(droite)\n",
    "    \n",
    "    # Fusionne les deux moitiés triées\n",
    "    resultat = []\n",
    "    i = j = 0\n",
    "    while i < len(gauche_triee) and j < len(droite_triee):\n",
    "        if gauche_triee[i] < droite_triee[j]:\n",
    "            resultat.append(gauche_triee[i])\n",
    "            i += 1\n",
    "        else:\n",
    "            resultat.append(droite_triee[j])\n",
    "            j += 1\n",
    "    resultat += gauche_triee[i:]\n",
    "    resultat += droite_triee[j:]\n",
    "    \n",
    "    return resultat\n",
    "liste = [29, 13, 22, 37, 52, 49, 46, 71,56]\n",
    "liste_triee = tri_par_fusion(liste)\n",
    "print(liste_triee)  "
   ]
  },
  {
   "cell_type": "code",
   "execution_count": 5,
   "id": "407a60ee",
   "metadata": {},
   "outputs": [
    {
     "name": "stdout",
     "output_type": "stream",
     "text": [
      "[13, 22, 29, 37, 46, 49, 52, 56, 71]\n"
     ]
    }
   ],
   "source": [
    "def tri_rapide(liste):\n",
    "    if len(liste) <= 1:\n",
    "        return liste\n",
    "    \n",
    "    pivot = liste[0]\n",
    "    plus_petits = []\n",
    "    plus_grands = []\n",
    "    pivots = []\n",
    "    \n",
    "    for element in liste:\n",
    "        if element < pivot:\n",
    "            plus_petits.append(element)\n",
    "        elif element > pivot:\n",
    "            plus_grands.append(element)\n",
    "        else:\n",
    "            pivots.append(element)\n",
    "            \n",
    "    return tri_rapide(plus_petits) + pivots + tri_rapide(plus_grands)\n",
    "liste = [29, 13, 22, 37, 52, 49, 46, 71,56]\n",
    "liste_triee = tri_rapide(liste)\n",
    "print(liste_triee)"
   ]
  },
  {
   "cell_type": "code",
   "execution_count": null,
   "id": "13e6b8e8",
   "metadata": {},
   "outputs": [],
   "source": []
  }
 ],
 "metadata": {
  "kernelspec": {
   "display_name": "Python 3 (ipykernel)",
   "language": "python",
   "name": "python3"
  },
  "language_info": {
   "codemirror_mode": {
    "name": "ipython",
    "version": 3
   },
   "file_extension": ".py",
   "mimetype": "text/x-python",
   "name": "python",
   "nbconvert_exporter": "python",
   "pygments_lexer": "ipython3",
   "version": "3.10.9"
  }
 },
 "nbformat": 4,
 "nbformat_minor": 5
}
