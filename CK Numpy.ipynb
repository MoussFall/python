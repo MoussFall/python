{
 "cells": [
  {
   "cell_type": "code",
   "execution_count": 20,
   "id": "e74aabc6",
   "metadata": {},
   "outputs": [
    {
     "name": "stdout",
     "output_type": "stream",
     "text": [
      "2\n",
      "2\n",
      "Entrez les note de l'etudiant numero 1\n",
      "4\n",
      "5\n",
      "Entrez les note de l'etudiant numero 2\n",
      "2\n",
      "1\n",
      "[45. 15.]\n",
      "[[4. 5.]\n",
      " [2. 1.]]\n",
      "[9. 3.]\n",
      "[45. 15.]\n",
      "['F', 'F']\n"
     ]
    }
   ],
   "source": [
    "import numpy as np\n",
    "nb_std=int(input())\n",
    "nb_mat=int(input())\n",
    "a=np.zeros((nb_std,nb_mat))\n",
    "for i in range(nb_std) :\n",
    "    print(f\"Entrez les note de l'etudiant numero {i+1}\")\n",
    "    for j in range(nb_mat) :\n",
    "        a[i][j]=int(input())\n",
    "a\n",
    "Total_note = np.sum(a,axis=1)\n",
    "pourcentage = (Total_note / (nb_mat*10))*100\n",
    "print(pourcentage)\n",
    "Note = []\n",
    "for per in pourcentage:\n",
    "    if per >= 90:\n",
    "        Note.append(\"A+\")\n",
    "    elif 80 <= per and per < 90:\n",
    "        Note.append(\"A\")\n",
    "    elif 70 <= per and per < 80:\n",
    "        Note.append(\"B+\")\n",
    "    elif 60 <= per and per < 70:\n",
    "        Note.append(\"B\")\n",
    "    elif 50 <= per and per < 60:\n",
    "        Note.append(\"C\")\n",
    "    else:\n",
    "        Note.append(\"F\")\n",
    "    \n",
    "\n",
    "print(a)\n",
    "print(Total_note)\n",
    "print(pourcentage)\n",
    "print(Note)"
   ]
  },
  {
   "cell_type": "code",
   "execution_count": null,
   "id": "60709079",
   "metadata": {},
   "outputs": [],
   "source": []
  }
 ],
 "metadata": {
  "kernelspec": {
   "display_name": "Python 3 (ipykernel)",
   "language": "python",
   "name": "python3"
  },
  "language_info": {
   "codemirror_mode": {
    "name": "ipython",
    "version": 3
   },
   "file_extension": ".py",
   "mimetype": "text/x-python",
   "name": "python",
   "nbconvert_exporter": "python",
   "pygments_lexer": "ipython3",
   "version": "3.10.9"
  }
 },
 "nbformat": 4,
 "nbformat_minor": 5
}
