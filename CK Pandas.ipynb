{
 "cells": [
  {
   "cell_type": "code",
   "execution_count": 1,
   "id": "c29012e6",
   "metadata": {},
   "outputs": [
    {
     "name": "stdout",
     "output_type": "stream",
     "text": [
      "0      blue\n",
      "1    yellow\n",
      "2      pink\n",
      "3    purple\n",
      "dtype: object\n"
     ]
    }
   ],
   "source": [
    "import pandas as pd\n",
    "import numpy as np\n",
    "array = np.array([\"blue\", \"yellow\", \"pink\", \"purple\"]) # get the array\n",
    "series1 = pd.Series(array)  #create the series from the array\n",
    "print(series1)"
   ]
  },
  {
   "cell_type": "code",
   "execution_count": 2,
   "id": "19b8fce3",
   "metadata": {},
   "outputs": [
    {
     "name": "stdout",
     "output_type": "stream",
     "text": [
      "0     19\n",
      "1    175\n",
      "2     41\n",
      "3     22\n",
      "dtype: int64\n"
     ]
    }
   ],
   "source": [
    "list = [19, 175, 41, 22]\n",
    "series2 = pd.Series(list) #create the series from the list\n",
    "print(series2)"
   ]
  },
  {
   "cell_type": "code",
   "execution_count": 3,
   "id": "e2872388",
   "metadata": {},
   "outputs": [
    {
     "name": "stdout",
     "output_type": "stream",
     "text": [
      "pink     20\n",
      "white    15\n",
      "black     6\n",
      "blue     43\n",
      "dtype: int64\n"
     ]
    }
   ],
   "source": [
    "import pandas as pd\n",
    "color=[\"pink\", \"white\", \"black\", \"blue\"]\n",
    "occurence = [20, 15, 6, 43]\n",
    "S=pd.Series(occurence, index=color)\n",
    "print(S)"
   ]
  },
  {
   "cell_type": "code",
   "execution_count": 4,
   "id": "910ac4d5",
   "metadata": {},
   "outputs": [
    {
     "name": "stdout",
     "output_type": "stream",
     "text": [
      "pink     23\n",
      "white    37\n",
      "black    15\n",
      "blue     53\n",
      "dtype: int64\n"
     ]
    }
   ],
   "source": [
    "import pandas as pd\n",
    "color=[\"pink\", \"white\", \"black\", \"blue\"]\n",
    "S1=pd.Series([20, 15, 6, 43], index=color)\n",
    "S2=pd.Series([3, 22, 9, 10], index=color)\n",
    "print(S1+S2)"
   ]
  },
  {
   "cell_type": "code",
   "execution_count": 5,
   "id": "0033fb4f",
   "metadata": {},
   "outputs": [
    {
     "name": "stdout",
     "output_type": "stream",
     "text": [
      "apples      NaN\n",
      "cherries    NaN\n",
      "cirese      NaN\n",
      "mere        NaN\n",
      "oranges     NaN\n",
      "pears       NaN\n",
      "pere        NaN\n",
      "portocale   NaN\n",
      "dtype: float64\n"
     ]
    }
   ],
   "source": [
    "import pandas as pd\n",
    "fruits = [\"apples\", \"oranges\", \"cherries\", \"pears\"]\n",
    "fruits_ro = [\"mere\", \"portocale\", \"cirese\", \"pere\"]\n",
    "S = pd.Series([20, 33, 52, 10], index=fruits)\n",
    "S2 = pd.Series([17, 13, 311, 32], index=fruits_ro)\n",
    "print(S+S2)"
   ]
  },
  {
   "cell_type": "code",
   "execution_count": 6,
   "id": "70b7f4b4",
   "metadata": {},
   "outputs": [
    {
     "name": "stdout",
     "output_type": "stream",
     "text": [
      "        name  age      city\n",
      "0       Jack   34     Paris\n",
      "1     Thomas   30      Roma\n",
      "2  Alexandre   16  New York\n"
     ]
    }
   ],
   "source": [
    "import pandas as pd\n",
    "list = [['Jack', 34, 'Paris'], ['Thomas', 30, 'Roma'], \n",
    "       ['Alexandre', 16, 'New York']] \n",
    "df = pd.DataFrame(list, columns =['name', 'age', 'city'])\n",
    "print(df)"
   ]
  },
  {
   "cell_type": "code",
   "execution_count": 7,
   "id": "874fa33a",
   "metadata": {},
   "outputs": [
    {
     "name": "stdout",
     "output_type": "stream",
     "text": [
      "        name  age      city\n",
      "0       Jack   34     Paris\n",
      "1     Thomas   30      Roma\n",
      "2  Alexandre   16  New York\n"
     ]
    }
   ],
   "source": [
    "dictionary  = { 'name' : ['Jack', 'Thomas', 'Alexandre'],\n",
    "    'age' : [34, 30, 16],\n",
    "    'city' : ['Paris', 'Roma', 'New York']}\n",
    "\n",
    "df = pd.DataFrame(dictionary)\n",
    "print(df)"
   ]
  },
  {
   "cell_type": "code",
   "execution_count": 28,
   "id": "c2482dfe",
   "metadata": {},
   "outputs": [
    {
     "ename": "TypeError",
     "evalue": "'list' object is not callable",
     "output_type": "error",
     "traceback": [
      "\u001b[1;31m---------------------------------------------------------------------------\u001b[0m",
      "\u001b[1;31mTypeError\u001b[0m                                 Traceback (most recent call last)",
      "Cell \u001b[1;32mIn[28], line 4\u001b[0m\n\u001b[0;32m      2\u001b[0m \u001b[38;5;28;01mimport\u001b[39;00m \u001b[38;5;21;01mpandas\u001b[39;00m \u001b[38;5;28;01mas\u001b[39;00m \u001b[38;5;21;01mpd\u001b[39;00m\n\u001b[0;32m      3\u001b[0m my_numpy_array\u001b[38;5;241m=\u001b[39mnp\u001b[38;5;241m.\u001b[39mrandom\u001b[38;5;241m.\u001b[39mrandn(\u001b[38;5;241m3\u001b[39m,\u001b[38;5;241m4\u001b[39m)\n\u001b[1;32m----> 4\u001b[0m df\u001b[38;5;241m=\u001b[39mpd\u001b[38;5;241m.\u001b[39mDataFrame(my_numpy_array, columns \u001b[38;5;241m=\u001b[39m \u001b[38;5;28;43mlist\u001b[39;49m\u001b[43m(\u001b[49m\u001b[38;5;124;43m\"\u001b[39;49m\u001b[38;5;124;43mabcd\u001b[39;49m\u001b[38;5;124;43m\"\u001b[39;49m\u001b[43m)\u001b[49m)\n\u001b[0;32m      5\u001b[0m \u001b[38;5;28mprint\u001b[39m(df)\n",
      "\u001b[1;31mTypeError\u001b[0m: 'list' object is not callable"
     ]
    }
   ],
   "source": [
    "import numpy as np\n",
    "import pandas as pd\n",
    "my_numpy_array=np.random.randn(3,4)\n",
    "df=pd.DataFrame(my_numpy_array, columns = list(\"abcd\"))\n",
    "print(df)"
   ]
  },
  {
   "cell_type": "code",
   "execution_count": 31,
   "id": "3d52d451",
   "metadata": {},
   "outputs": [
    {
     "ename": "SyntaxError",
     "evalue": "(unicode error) 'unicodeescape' codec can't decode bytes in position 2-3: truncated \\UXXXXXXXX escape (512997723.py, line 2)",
     "output_type": "error",
     "traceback": [
      "\u001b[1;36m  Cell \u001b[1;32mIn[31], line 2\u001b[1;36m\u001b[0m\n\u001b[1;33m    df=pd.read_csv(\"C:\\Users\\DELL\\Desktop\\Data Science\\csv file example\")\u001b[0m\n\u001b[1;37m                                                                        ^\u001b[0m\n\u001b[1;31mSyntaxError\u001b[0m\u001b[1;31m:\u001b[0m (unicode error) 'unicodeescape' codec can't decode bytes in position 2-3: truncated \\UXXXXXXXX escape\n"
     ]
    }
   ],
   "source": [
    "import pandas as pd\n",
    "df=pd.read_csv(\"C:\\Users\\DELL\\Desktop\\Data Science\\csv file example\")\n",
    "print(df)"
   ]
  },
  {
   "cell_type": "code",
   "execution_count": 37,
   "id": "de979196",
   "metadata": {},
   "outputs": [
    {
     "name": "stdout",
     "output_type": "stream",
     "text": [
      "        name  note  tentatives qualifier\n",
      "0  Anastasia  12.5           1       oui\n",
      "1       Dima     9           3       non\n",
      "2  Katherine  16.5           2       oui\n",
      "3      James   NaN           3       non\n",
      "4      Emily     9           2       non\n",
      "5    Michael    20           3       oui\n",
      "6   Matthieu  14.5           1       oui\n",
      "7      Laura   NaN           1       non\n",
      "8      Kevin     8           2       non\n",
      "9      Jonas    19           1       oui\n"
     ]
    }
   ],
   "source": [
    "import pandas as pd\n",
    "exam_data = {'name': ['Anastasia', 'Dima', 'Katherine', 'James', 'Emily', 'Michael', 'Matthieu', 'Laura', 'Kevin', 'Jonas'],\n",
    "             'note': [12.5, 9, 16.5,'NaN', 9, 20, 14.5,'NaN', 8, 19],\n",
    "             'tentatives' : [1, 3, 2, 3, 2, 3, 1, 1, 2, 1],\n",
    "             'qualifier' : ['oui', 'non', 'oui', 'non', 'non', 'oui', 'oui', 'non', 'non', 'oui']}\n",
    "\n",
    "df = pd.DataFrame(exam_data)\n",
    "print(df)"
   ]
  },
  {
   "cell_type": "code",
   "execution_count": 38,
   "id": "22203fd6",
   "metadata": {},
   "outputs": [
    {
     "name": "stdout",
     "output_type": "stream",
     "text": [
      "        name  note  tentatives qualifier\n",
      "a  Anastasia  12.5           1       oui\n",
      "b       Dima     9           3       non\n",
      "c  Katherine  16.5           2       oui\n",
      "d      James   NaN           3       non\n",
      "e      Emily     9           2       non\n",
      "f    Michael    20           3       oui\n",
      "g   Matthieu  14.5           1       oui\n",
      "h      Laura   NaN           1       non\n",
      "i      Kevin     8           2       non\n",
      "j      Jonas    19           1       oui\n"
     ]
    }
   ],
   "source": [
    "df.index = ['a', 'b', 'c', 'd', 'e', 'f', 'g', 'h', 'i', 'j']\n",
    "print(df)"
   ]
  },
  {
   "cell_type": "code",
   "execution_count": 39,
   "id": "135bab70",
   "metadata": {},
   "outputs": [
    {
     "name": "stdout",
     "output_type": "stream",
     "text": [
      "        name  note  tentatives qualifier\n",
      "a  Anastasia  12.5           1       oui\n",
      "b       Dima     9           3       non\n",
      "c  Katherine  16.5           2       oui\n",
      "e      Emily     9           2       non\n",
      "f    Michael    20           3       oui\n",
      "g   Matthieu  14.5           1       oui\n",
      "i      Kevin     8           2       non\n",
      "j      Jonas    19           1       oui\n"
     ]
    }
   ],
   "source": [
    "df = df.drop(['d','h'],axis=0)\n",
    "print(df)"
   ]
  },
  {
   "cell_type": "code",
   "execution_count": 41,
   "id": "f94fc277",
   "metadata": {},
   "outputs": [
    {
     "name": "stdout",
     "output_type": "stream",
     "text": [
      "        name  note\n",
      "a  Anastasia  12.5\n",
      "b       Dima     9\n",
      "c  Katherine  16.5\n",
      "e      Emily     9\n",
      "f    Michael    20\n",
      "g   Matthieu  14.5\n",
      "i      Kevin     8\n",
      "j      Jonas    19\n"
     ]
    }
   ],
   "source": [
    "df_1 = df.iloc[:,0:2]\n",
    "print(df_1)"
   ]
  },
  {
   "cell_type": "code",
   "execution_count": 46,
   "id": "1ba6bd0e",
   "metadata": {},
   "outputs": [
    {
     "name": "stdout",
     "output_type": "stream",
     "text": [
      "        name  note  tentatives qualifier\n",
      "a  Anastasia  12.5           1       oui\n",
      "b       Dima     9           3       non\n",
      "c  Katherine  16.5           2       oui\n",
      "e      Emily     9           2       non\n",
      "f    Michael    20           3       oui\n",
      "g   Matthieu  14.5           1       oui\n",
      "i      Kevin     8           2       non\n",
      "j      Jonas    19           1       oui\n"
     ]
    },
    {
     "name": "stderr",
     "output_type": "stream",
     "text": [
      "C:\\Users\\DELL\\AppData\\Local\\Temp\\ipykernel_10708\\154563992.py:1: FutureWarning: The frame.append method is deprecated and will be removed from pandas in a future version. Use pandas.concat instead.\n",
      "  df.append(pd.Series(data = ['Suresh',15.5,1,'oui'],index=['name','note','tentatives','qualifier']), ignore_index=True)\n"
     ]
    }
   ],
   "source": [
    "df.append(pd.Series(data = ['Suresh',15.5,1,'oui'],index=['name','note','tentatives','qualifier']), ignore_index=True)\n",
    "print(df)"
   ]
  },
  {
   "cell_type": "code",
   "execution_count": 48,
   "id": "1f6a7ce0",
   "metadata": {},
   "outputs": [
    {
     "name": "stdout",
     "output_type": "stream",
     "text": [
      "        name  note qualifier\n",
      "a  Anastasia  12.5       oui\n",
      "b       Dima     9       non\n",
      "c  Katherine  16.5       oui\n",
      "e      Emily     9       non\n",
      "f    Michael    20       oui\n",
      "g   Matthieu  14.5       oui\n",
      "i      Kevin     8       non\n",
      "j      Jonas    19       oui\n"
     ]
    }
   ],
   "source": [
    "df.drop(columns=['tentatives'],inplace=True)\n",
    "print(df)"
   ]
  },
  {
   "cell_type": "code",
   "execution_count": 50,
   "id": "6384acca",
   "metadata": {},
   "outputs": [
    {
     "name": "stdout",
     "output_type": "stream",
     "text": [
      "        name  note qualifier  Succès\n",
      "a  Anastasia  12.5       oui       1\n",
      "b       Dima     9       non       0\n",
      "c  Katherine  16.5       oui       1\n",
      "e      Emily     9       non       0\n",
      "f    Michael    20       oui       1\n",
      "g   Matthieu  14.5       oui       1\n",
      "i      Kevin     8       non       0\n",
      "j      Jonas    19       oui       1\n"
     ]
    }
   ],
   "source": [
    "def Succes (score):\n",
    "    if score > 10 :\n",
    "        return(1)\n",
    "    else:\n",
    "        return(0)\n",
    "df['Succès']=df['note'].apply(lambda x: Succes(x) ) \n",
    "print(df)"
   ]
  },
  {
   "cell_type": "code",
   "execution_count": 51,
   "id": "a126cc21",
   "metadata": {},
   "outputs": [],
   "source": [
    "df.to_csv('my_data.csv')"
   ]
  },
  {
   "cell_type": "code",
   "execution_count": null,
   "id": "9f25ab5e",
   "metadata": {},
   "outputs": [],
   "source": []
  }
 ],
 "metadata": {
  "kernelspec": {
   "display_name": "Python 3 (ipykernel)",
   "language": "python",
   "name": "python3"
  },
  "language_info": {
   "codemirror_mode": {
    "name": "ipython",
    "version": 3
   },
   "file_extension": ".py",
   "mimetype": "text/x-python",
   "name": "python",
   "nbconvert_exporter": "python",
   "pygments_lexer": "ipython3",
   "version": "3.10.9"
  }
 },
 "nbformat": 4,
 "nbformat_minor": 5
}
