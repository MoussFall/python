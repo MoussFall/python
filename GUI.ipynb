{
 "cells": [
  {
   "cell_type": "code",
   "execution_count": 2,
   "id": "aef5f197",
   "metadata": {},
   "outputs": [],
   "source": [
    "import tkinter as tk\n",
    "window = tk.Tk()\n",
    "greeting = tk.Label(text=\"Hello, Tkinter\")\n",
    "greeting.pack()\n",
    "window.mainloop()\n"
   ]
  },
  {
   "cell_type": "code",
   "execution_count": 1,
   "id": "6f650bb0",
   "metadata": {},
   "outputs": [],
   "source": [
    "import tkinter as tk\n",
    "window = tk.Tk()\n",
    "label = tk.Label(text=\"Gomycode\")\n",
    "label.pack()\n",
    "window.mainloop()"
   ]
  },
  {
   "cell_type": "code",
   "execution_count": 5,
   "id": "5898e585",
   "metadata": {},
   "outputs": [],
   "source": [
    "label = tk.Label(\n",
    "    text=\"Hello, Tkinter\",\n",
    "    foreground=\"white\",  # Set the text color to white\n",
    "    background=\"black\"  # Set the background color to black\n",
    ")"
   ]
  },
  {
   "cell_type": "code",
   "execution_count": 6,
   "id": "49895d49",
   "metadata": {},
   "outputs": [],
   "source": [
    "label = tk.Label(\n",
    "    text=\"Hello, Tkinter\",\n",
    "    fg=\"white\",\n",
    "    bg=\"black\",\n",
    "    width=10,\n",
    "    height=10\n",
    ")"
   ]
  },
  {
   "cell_type": "code",
   "execution_count": 18,
   "id": "1da10b1a",
   "metadata": {},
   "outputs": [],
   "source": [
    "# Import the tkinter module and alias it as tk\n",
    "import tkinter as tk\n",
    "# Define a dictionary that maps string values to relief attributes\n",
    "border_effects = {\n",
    "    \"flat\": tk.FLAT,\n",
    "    \"sunken\": tk.SUNKEN,\n",
    "    \"raised\": tk.RAISED,\n",
    "    \"groove\": tk.GROOVE,\n",
    "    \"ridge\": tk.RIDGE,\n",
    "}\n",
    "# Create a Tkinter window\n",
    "window = tk.Tk()\n",
    "# Loop through each item in the border_effects dictionary\n",
    "for relief_name, relief in border_effects.items():\n",
    "    # Create a new frame widget with the specified relief and border width\n",
    "    frame = tk.Frame(master=window, relief=relief, borderwidth=5)\n",
    "    # Pack the frame widget onto the left side of the window\n",
    "    frame.pack(side=tk.LEFT)\n",
    "    # Create a new label widget within the frame, displaying the relief name\n",
    "    label = tk.Label(master=frame, text=relief_name)\n",
    "    # Pack the label widget within the frame\n",
    "    label.pack()\n",
    "# Enter the Tkinter main event loop\n",
    "window.mainloop()"
   ]
  },
  {
   "cell_type": "code",
   "execution_count": 20,
   "id": "21f06488",
   "metadata": {},
   "outputs": [],
   "source": [
    "import tkinter as tk\n",
    "\n",
    "window = tk.Tk()\n",
    "\n",
    "entry = tk.Entry(width=40)\n",
    "entry.pack()\n",
    "\n",
    "entry.insert(0, \"What is your name?\")\n",
    "\n",
    "window.mainloop()"
   ]
  },
  {
   "cell_type": "code",
   "execution_count": 23,
   "id": "3b5ce710",
   "metadata": {},
   "outputs": [],
   "source": [
    "import tkinter as tk\n",
    "# Create a new window with the title \"Address Entry Form\"\n",
    "window = tk.Tk()\n",
    "window.title(\"Address Entry Form\")\n",
    "# Create a new frame `frm_form` to contain the Label\n",
    "# and Entry widgets for entering address information\n",
    "frm_form = tk.Frame(relief=tk.SUNKEN, borderwidth=3)\n",
    "# Pack the frame into the window\n",
    "frm_form.pack()\n",
    "# List of field labels\n",
    "labels = [\n",
    "    \"First Name:\",\n",
    "    \"Last Name:\",\n",
    "    \"Address Line 1:\",\n",
    "    \"Address Line 2:\",\n",
    "    \"City:\",\n",
    "    \"State/Province:\",\n",
    "    \"Postal Code:\",\n",
    "    \"Country:\",\n",
    "]\n",
    "# Loop over the list of field labels\n",
    "for idx, text in enumerate(labels):\n",
    "    # Create a Label widget with the text from the labels list\n",
    "    label = tk.Label(master=frm_form, text=text)\n",
    "    # Create an Entry widget\n",
    "    entry = tk.Entry(master=frm_form, width=50)\n",
    "    # Use the grid geometry manager to place the Label and\n",
    "    # Entry widgets in the row whose index is idx\n",
    "    label.grid(row=idx, column=0, sticky=\"e\")\n",
    "    entry.grid(row=idx, column=1)\n",
    "    \n",
    "# Create a new frame `frm_buttons` to contain the\n",
    "# Submit and Clear buttons. This frame fills the\n",
    "# whole window in the horizontal direction and has\n",
    "# 5 pixels of horizontal and vertical padding.\n",
    "frm_buttons = tk.Frame()\n",
    "frm_buttons.pack(fill=tk.X, ipadx=5, ipady=5)\n",
    "# Create the \"Submit\" button and pack it to the\n",
    "# right side of `frm_buttons`\n",
    "btn_submit = tk.Button(master=frm_buttons, text=\"Submit\")\n",
    "btn_submit.pack(side=tk.RIGHT, padx=10, ipadx=10)\n",
    "\n",
    "# Create the \"Clear\" button and pack it to the\n",
    "# right side of `frm_buttons`\n",
    "btn_clear = tk.Button(master=frm_buttons, text=\"Clear\")\n",
    "btn_clear.pack(side=tk.RIGHT, ipadx=10)\n",
    "\n",
    "# Start the application\n",
    "window.mainloop()"
   ]
  },
  {
   "cell_type": "code",
   "execution_count": 24,
   "id": "d7774766",
   "metadata": {},
   "outputs": [],
   "source": [
    "import random\n",
    "import tkinter as tk\n",
    "\n",
    "def roll():\n",
    "    lbl_result[\"text\"] = str(random.randint(1, 6))\n",
    "\n",
    "window = tk.Tk()\n",
    "window.columnconfigure(0, minsize=150)\n",
    "window.rowconfigure([0, 1], minsize=50)\n",
    "\n",
    "btn_roll = tk.Button(text=\"Roll\", command=roll)\n",
    "lbl_result = tk.Label()\n",
    "\n",
    "btn_roll.grid(row=0, column=0, sticky=\"nsew\")\n",
    "lbl_result.grid(row=1, column=0)\n",
    "\n",
    "window.mainloop()"
   ]
  },
  {
   "cell_type": "code",
   "execution_count": null,
   "id": "bf3b3b6e",
   "metadata": {},
   "outputs": [],
   "source": []
  }
 ],
 "metadata": {
  "kernelspec": {
   "display_name": "Python 3 (ipykernel)",
   "language": "python",
   "name": "python3"
  },
  "language_info": {
   "codemirror_mode": {
    "name": "ipython",
    "version": 3
   },
   "file_extension": ".py",
   "mimetype": "text/x-python",
   "name": "python",
   "nbconvert_exporter": "python",
   "pygments_lexer": "ipython3",
   "version": "3.10.9"
  }
 },
 "nbformat": 4,
 "nbformat_minor": 5
}
